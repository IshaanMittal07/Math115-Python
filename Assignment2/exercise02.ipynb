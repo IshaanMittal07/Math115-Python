{
 "cells": [
  {
   "cell_type": "markdown",
   "id": "bd2ba29a-955c-4148-8942-c134a12c104d",
   "metadata": {},
   "source": [
    "## Social Network Connections"
   ]
  },
  {
   "cell_type": "markdown",
   "id": "b28d6107-b57b-435a-9df2-f11ba300ba54",
   "metadata": {},
   "source": [
    "Connections between people (or things) can often be represented with what is called an **Adjacency Matrix**. For example imagine a very very small social network of 7 people. We could represent the connections using the matrix below:"
   ]
  },
  {
   "cell_type": "code",
   "execution_count": null,
   "id": "63666f57-2437-4b0f-bf50-76a4c8255145",
   "metadata": {},
   "outputs": [],
   "source": [
    "small_network = Matrix([[ 0, 1, 0, 1, 1, 0, 0 ],\n",
    "                        [ 1, 0, 0, 1, 0, 0, 0 ],\n",
    "                        [ 0, 0, 0, 0, 0, 1, 0 ],\n",
    "                        [ 1, 1, 0, 0, 0, 0, 0 ],\n",
    "                        [ 1, 0, 0, 0, 0, 0, 1 ],\n",
    "                        [ 0, 0, 1, 0, 0, 0, 0 ],\n",
    "                        [ 0, 0, 0, 0, 1, 0, 0 ]])"
   ]
  },
  {
   "cell_type": "markdown",
   "id": "69dc3041-28f7-4740-8a1d-e9be685eec1d",
   "metadata": {},
   "source": [
    "To interpret this (necessarily symmetric) matrix note that:\n",
    " - if position i,j is a 0 then person i and person j are not friends\n",
    " - if position i,j is a 1 then person i and person j are friends\n",
    " \n",
    "A slightly more useful visualization would be to draw a bunch of circles for each person with lines in between the connections (also known as a graph). Execute the cell below to see this."
   ]
  },
  {
   "cell_type": "code",
   "execution_count": null,
   "id": "e8748744-32cf-4b4a-8ddd-11998489690d",
   "metadata": {},
   "outputs": [
    {
     "data": {
      "image/png": "[encoded data removed]",
      "text/plain": [
       "Graphics object consisting of 14 graphics primitives"
      ]
     },
     "execution_count": 1,
     "metadata": {},
     "output_type": "execute_result"
    }
   ],
   "source": [
    "small_network = Matrix([[ 0, 1, 0, 1, 1, 0, 0 ],\n",
    "                        [ 1, 0, 0, 1, 0, 0, 0 ],\n",
    "                        [ 0, 0, 0, 0, 0, 1, 0 ],\n",
    "                        [ 1, 1, 0, 0, 0, 0, 0 ],\n",
    "                        [ 1, 0, 0, 0, 0, 0, 1 ],\n",
    "                        [ 0, 0, 1, 0, 0, 0, 0 ],\n",
    "                        [ 0, 0, 0, 0, 1, 0, 0 ]])\n",
    "\n",
    "G = Graph(small_network)\n",
    "G.plot()"
   ]
  },
  {
   "cell_type": "markdown",
   "id": "d9f6ef19-7652-4c8d-8535-2c2abf9c06ba",
   "metadata": {},
   "source": [
    "As it turns out, for an adjacency matrix $A$ the i,j entry of $A^n$ will give the number of paths of length $n$ connecting person i and person j. For example let's compute $A^3$ below"
   ]
  },
  {
   "cell_type": "code",
   "execution_count": null,
   "id": "898910ca-ec0d-4baf-9bc7-64eb84d4a6b7",
   "metadata": {},
   "outputs": [
    {
     "data": {
      "text/html": [
       "<html>\\(\\displaystyle \\left(\\begin{array}{rrrrrrr}\n",
       "2 & 4 & 0 & 4 & 4 & 0 & 0 \\\\\n",
       "4 & 2 & 0 & 3 & 1 & 0 & 1 \\\\\n",
       "0 & 0 & 0 & 0 & 0 & 1 & 0 \\\\\n",
       "4 & 3 & 0 & 2 & 1 & 0 & 1 \\\\\n",
       "4 & 1 & 0 & 1 & 0 & 0 & 2 \\\\\n",
       "0 & 0 & 1 & 0 & 0 & 0 & 0 \\\\\n",
       "0 & 1 & 0 & 1 & 2 & 0 & 0\n",
       "\\end{array}\\right)\\)</html>"
      ],
      "text/latex": [
       "$\\displaystyle \\left(\\begin{array}{rrrrrrr}\n",
       "2 & 4 & 0 & 4 & 4 & 0 & 0 \\\\\n",
       "4 & 2 & 0 & 3 & 1 & 0 & 1 \\\\\n",
       "0 & 0 & 0 & 0 & 0 & 1 & 0 \\\\\n",
       "4 & 3 & 0 & 2 & 1 & 0 & 1 \\\\\n",
       "4 & 1 & 0 & 1 & 0 & 0 & 2 \\\\\n",
       "0 & 0 & 1 & 0 & 0 & 0 & 0 \\\\\n",
       "0 & 1 & 0 & 1 & 2 & 0 & 0\n",
       "\\end{array}\\right)$"
      ],
      "text/plain": [
       "[2 4 0 4 4 0 0]\n",
       "[4 2 0 3 1 0 1]\n",
       "[0 0 0 0 0 1 0]\n",
       "[4 3 0 2 1 0 1]\n",
       "[4 1 0 1 0 0 2]\n",
       "[0 0 1 0 0 0 0]\n",
       "[0 1 0 1 2 0 0]"
      ]
     },
     "metadata": {},
     "output_type": "display_data"
    }
   ],
   "source": [
    "show(small_network^3)"
   ]
  },
  {
   "cell_type": "markdown",
   "id": "541093ba-626c-4b80-8667-7f4dd4a0e305",
   "metadata": {},
   "source": [
    "Notice how the entry at row 1 column 0 is 4. This means that there should be 4 distinct paths of length 3 that go from person 1 to person 0. (Recall for these computer based matrices we start counting at 0 instead of 1).\n",
    "<div style=\"background-color: lightpink; color:black; padding: 10px\">\n",
    "    \n",
    "### Question 1 \n",
    "    \n",
    "#### (answer on the Exercise 02 quiz in Learn)\n",
    "List all of the paths of length 3 from person 1 to person 0 in the network above. They should be entered as (a,b,c,d) where each letter is replaced by a number that corresponds to a person. For example one of the paths of length 3 from person 4 to person 6 would be (4,0,4,6). Another option would be (4,6,4,6).\n",
    "</div>\n"
   ]
  },
  {
   "cell_type": "markdown",
   "id": "dff1e305-4a3a-4526-aad6-590c8e14c6e8",
   "metadata": {},
   "source": [
    "Actually drawing out the graph for even a small social network is unfeasible. As such your job will be to deduce properties based on the matrix alone.\n",
    "\n",
    "Let us build a (slightly larger) social network of 80 people (ensure the file `small_social_network_data.csv` is in the folder where the current `exercise02.ipynb` file is)\n",
    "\n",
    "Run the code cell below. This should create a variable called large_network which represents the adjacency matrix for this social network."
   ]
  },
  {
   "cell_type": "code",
   "execution_count": 10,
   "id": "1f5de69c-6aab-4408-a597-b37cdd03a1aa",
   "metadata": {},
   "outputs": [],
   "source": [
    "import csv\n",
    "\n",
    "filename = 'small_social_network_data.csv'\n",
    "nodes = 80\n",
    "\n",
    "large_network = matrix(nodes,nodes,0)\n",
    "\n",
    "with open(filename, 'r') as file:\n",
    "    csv_reader = csv.reader(file)\n",
    "    header = next(csv_reader)  # skip the header\n",
    "    for row in csv_reader:\n",
    "        node1, node2 = int(row[0]) - 1, int(row[1]) - 1 \n",
    "        large_network[node1,node2] = 1\n",
    "        large_network[node2,node1] = 1\n",
    "        \n",
    "#uncomment the line below to see the matrix (i.e. remove the # symbol)\n",
    "#show(large_network) "
   ]
  },
  {
   "cell_type": "markdown",
   "id": "eebd54d0-95aa-4509-8919-4afd39e4b8c3",
   "metadata": {},
   "source": [
    "<div style=\"background-color: lightpink; color:black; padding: 10px\">\n",
    "    \n",
    "### Question 2\n",
    "Use the code cell below to help solve the probem. **Then, answer the specific question on the Exercise 02 quiz in Learn**\n",
    "\n",
    "Q: From the matrix `large_network` use matrix-vector multiplication to determine the largest number of friends someone has in this network. You may wish to use the `max` function (e.g. `max(v)` generates the maximum value of the vector `v`)\n",
    "</div>"
   ]
  },
  {
   "cell_type": "code",
   "execution_count": 12,
   "id": "df22ceff-a112-471b-a12e-79024aa90035",
   "metadata": {},
   "outputs": [
    {
     "data": {
      "text/html": [
       "<html>\\(\\displaystyle 7\\)</html>"
      ],
      "text/latex": [
       "$\\displaystyle 7$"
      ],
      "text/plain": [
       "7"
      ]
     },
     "metadata": {},
     "output_type": "display_data"
    }
   ],
   "source": [
    "import csv\n",
    "\n",
    "filename = 'small_social_network_data.csv'\n",
    "nodes = 80\n",
    "\n",
    "large_network = matrix(nodes,nodes,0)\n",
    "one_vector = vector([1]*nodes)\n",
    "\n",
    "with open(filename, 'r') as file:\n",
    "    csv_reader = csv.reader(file)\n",
    "    header = next(csv_reader)  # skip the header\n",
    "    for row in csv_reader:\n",
    "        node1, node2 = int(row[0]) - 1, int(row[1]) - 1 \n",
    "        large_network[node1,node2] = 1\n",
    "        large_network[node2,node1] = 1\n",
    "        \n",
    "friends_vector = large_network * one_vector\n",
    "\n",
    "show(max(friends_vector)); "
   ]
  },
  {
   "cell_type": "markdown",
   "id": "997d0186-974c-46fd-9e5a-f548fa0cf0df",
   "metadata": {},
   "source": [
    "---\n",
    "\n",
    "For the next question you might want to make use of the custom function in the cell below. It will determine if a particular value exists inside a matrix. For example:\n",
    "\n",
    "if $A = \\begin{pmatrix} 2 & 5 \\\\ -1 & 3 \\end{pmatrix}$ then `check_for_val(A,5) => True` whereas `check_for_val(A,4) => False`\n",
    "\n",
    "Run the cell below so that this function will be available to use in the final question."
   ]
  },
  {
   "cell_type": "code",
   "execution_count": 11,
   "id": "e7be37ba-412a-4e3b-8341-04dce69ebc64",
   "metadata": {},
   "outputs": [],
   "source": [
    "def check_for_val(A,val):\n",
    "    for r in A.rows():\n",
    "        for c in r:\n",
    "            if c == val:\n",
    "                return True\n",
    "    return False"
   ]
  },
  {
   "cell_type": "markdown",
   "id": "b82f8c08-ac0f-496d-9450-ace4d503b060",
   "metadata": {},
   "source": [
    "<div style=\"background-color: lightpink; color:black; padding: 10px\">\n",
    "\n",
    "### Question 3\n",
    "Perhaps you've heard of the theory \"6 degrees of separation\". The idea being that any two people in the world are socially separated from each other by no more than 6 people. That is, in a social network it should be possible for person A to reach person B by a path of length 6 or shorter.\n",
    "\n",
    "*With that in mind, and using the custom function above, determine if everyone in `large_network` is separated by at most a path of length 6. If not, find the smallest path length that will guarantee everyone is connected (the expectation is that you will brute force your way to the answer and not develop a fancy way of determining this). Consider rereading the beginning of this exercise file.*\n",
    "</div>"
   ]
  },
  {
   "cell_type": "code",
   "execution_count": 14,
   "id": "0d08bf10-cc0e-4a46-bfec-02e348ddf0f0",
   "metadata": {},
   "outputs": [
    {
     "data": {
      "text/html": [
       "<html>\\(\\displaystyle 8\\)</html>"
      ],
      "text/latex": [
       "$\\displaystyle 8$"
      ],
      "text/plain": [
       "8"
      ]
     },
     "metadata": {},
     "output_type": "display_data"
    }
   ],
   "source": [
    "import csv\n",
    "\n",
    "filename = 'small_social_network_data.csv'\n",
    "nodes = 80\n",
    "\n",
    "large_network = matrix(nodes,nodes,0)\n",
    "\n",
    "\n",
    "with open(filename, 'r') as file:\n",
    "    csv_reader = csv.reader(file)\n",
    "    header = next(csv_reader)  # skip the header\n",
    "    for row in csv_reader:\n",
    "        node1, node2 = int(row[0]) - 1, int(row[1]) - 1 \n",
    "        large_network[node1,node2] = 1\n",
    "        large_network[node2,node1] = 1\n",
    "\n",
    "\n",
    "n = 1\n",
    "extension_network = large_network^n\n",
    "\n",
    "while True:\n",
    "    # ignore diagonal\n",
    "    for i in range(extension_network.nrows()):\n",
    "        extension_network[i,i] = 1\n",
    "\n",
    "    if not check_for_val(extension_network, 0):\n",
    "        show(n)\n",
    "        break\n",
    "\n",
    "    n += 1\n",
    "    extension_network += large_network^n\n"
   ]
  },
  {
   "cell_type": "code",
   "execution_count": null,
   "id": "8e2ccd2f-7c52-46e1-8fc6-e42625ac4d60",
   "metadata": {},
   "outputs": [],
   "source": []
  }
 ],
 "metadata": {
  "kernelspec": {
   "display_name": "SageMath 10.4",
   "language": "sage",
   "name": "uw-sagemath-10-4"
  },
  "language_info": {
   "codemirror_mode": {
    "name": "ipython",
    "version": 3
   },
   "file_extension": ".py",
   "mimetype": "text/x-python",
   "name": "python",
   "nbconvert_exporter": "python",
   "pygments_lexer": "ipython3",
   "version": "3.10.12"
  }
 },
 "nbformat": 4,
 "nbformat_minor": 5
}
